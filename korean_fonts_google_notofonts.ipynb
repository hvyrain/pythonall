{
  "nbformat": 4,
  "nbformat_minor": 0,
  "metadata": {
    "colab": {
      "name": "korean-fonts-google-notofonts",
      "provenance": [],
      "collapsed_sections": [],
      "toc_visible": true,
      "authorship_tag": "ABX9TyOVSR6BSCiQQc8aRI62Ny2W",
      "include_colab_link": true
    },
    "kernelspec": {
      "name": "python3",
      "display_name": "Python 3"
    },
    "language_info": {
      "name": "python"
    }
  },
  "cells": [
    {
      "cell_type": "markdown",
      "metadata": {
        "id": "view-in-github",
        "colab_type": "text"
      },
      "source": [
        "<a href=\"https://colab.research.google.com/github/hvyrain/pythonall/blob/main/korean_fonts_google_notofonts.ipynb\" target=\"_parent\"><img src=\"https://colab.research.google.com/assets/colab-badge.svg\" alt=\"Open In Colab\"/></a>"
      ]
    },
    {
      "cell_type": "markdown",
      "metadata": {
        "id": "A665UB7u3Kr3"
      },
      "source": [
        "# 한글 폰트를 인터넷으로 직접 내려받아 사용하기\n",
        "- 나눔 기본 폰트 이외 다른 폰트를 내려받아 사용할 때 ...\n"
      ]
    },
    {
      "cell_type": "markdown",
      "metadata": {
        "id": "h5uxpJPFC6eL"
      },
      "source": [
        "### 글꼴 목록 \n",
        "- 구글\n",
        "-- 고딕체 : https://noto-website-2.storage.googleapis.com/pkgs/NotoSansCJKkr-hinted.zip\n",
        " -- 명조체 : https://noto-website-2.storage.googleapis.com/pkgs/NotoSerifCJKkr-hinted.zip\n",
        "- 네이버\n",
        "-- 나눔고딕 : https://hangeul.naver.com/api/nanum/font/NanumFontSetup_TTF_GOTHIC.zip\n",
        "-- 나눔명조 : https://hangeul.naver.com/api/nanum/font/NanumFontSetup_TTF_MYUNGJO.zip\n",
        "-- 나눔바른고딕 : https://hangeul.naver.com/api/nanum/font/NanumFontSetup_TTF_BARUNGOTHIC.zip\n",
        "-- 나눔스퀘어 : https://hangeul.naver.com/api/nanum/font/NanumFontSetup_TTF_SQUARE.zip\n",
        "-- 나눔스퀘어라운드 : https://hangeul.naver.com/api/nanum/font/NanumFontSetup_TTF_SQUARE_ROUND.zip\n",
        "-- 나눔바른펜 : https://hangeul.naver.com/api/nanum/font/NanumFontSetup_TTF_BARUNPEN.zip\n",
        "-- 나눔펜 : https://hangeul.naver.com/api/nanum/font/NanumFontSetup_TTF_SONGEULSSI.zip"
      ]
    },
    {
      "cell_type": "markdown",
      "metadata": {
        "id": "okyf_EjDDEWV"
      },
      "source": [
        "### 글꼴 내려받아 설치하기\n",
        "- 설치 후 반드시 런타임 다시 시작해야 함."
      ]
    },
    {
      "cell_type": "code",
      "metadata": {
        "id": "_D6aeDsJqSOF"
      },
      "source": [
        "import os\n",
        "path = 'https://hangeul.naver.com/api/nanum/font/NanumFontSetup_TTF_SONGEULSSI.zip' # 나눔펜\n",
        "\n",
        "# 다운로드 받기\n",
        "cmd = 'wget ' + path\n",
        "os.system(cmd)\n",
        "# 압축 풀기\n",
        "cmd = 'unzip ' + cmd[cmd.rfind('/')+1:] + ' -d /usr/share/fonts/truetype'\n",
        "os.system(cmd)\n",
        "# 나머지 작업, 반드시 런타임 다시 시작\n",
        "!sudo fc-cache -fv\n",
        "!rm ~/.cache/matplotlib -rf # 실행 후 런타임 다시 시작 필요"
      ],
      "execution_count": null,
      "outputs": []
    },
    {
      "cell_type": "markdown",
      "metadata": {
        "id": "kGgsPt0DDPkn"
      },
      "source": [
        "### 한글 글꼴 사용 설정"
      ]
    },
    {
      "cell_type": "code",
      "metadata": {
        "colab": {
          "base_uri": "https://localhost:8080/"
        },
        "id": "FJ2Gw4SBzquc",
        "outputId": "1b15c46e-0ea8-4b0f-ebac-b93173144073"
      },
      "source": [
        "import matplotlib.pyplot as plt\n",
        "import matplotlib.font_manager as fm\n",
        "\n",
        "path = '/usr/share/fonts/truetype/NanumPen.ttf' #'/content/NotoSansCJKkr-Thin.otf'\n",
        "font_name = fm.FontProperties(fname=path).get_name()\n",
        "plt.rc('font', family=font_name, size=24)\n",
        "# 글꼴 종류, 크기 등 글꼴을 개별적으로 지정할 때 사용한다. 함수 내에서 적절한 속성에 지정\n",
        "fontprop = fm.FontProperties(fname=path, size= 36)\n",
        "print(font_name)"
      ],
      "execution_count": 4,
      "outputs": [
        {
          "output_type": "stream",
          "text": [
            "Nanum Pen Script\n"
          ],
          "name": "stdout"
        }
      ]
    },
    {
      "cell_type": "markdown",
      "metadata": {
        "id": "lxA69DegDV1g"
      },
      "source": [
        "### 그래프 예제"
      ]
    },
    {
      "cell_type": "code",
      "metadata": {
        "colab": {
          "base_uri": "https://localhost:8080/",
          "height": 331
        },
        "id": "HFzxnAYerYGe",
        "outputId": "7b018b18-ef1e-4f5f-9915-dc268cd078c8"
      },
      "source": [
        "import matplotlib.pyplot as plt\n",
        "\n",
        "plt.plot(range(50), range(50), 'r')\n",
        "plt.title('차트 제목', fontproperties=fontprop)\n",
        "plt.ylabel('y축')\n",
        "plt.xlabel('x축')\n",
        "plt.show()"
      ],
      "execution_count": 5,
      "outputs": [
        {
          "output_type": "display_data",
          "data": {
            "image/png": "[encoded data removed]",
            "text/plain": [
              "<Figure size 432x288 with 1 Axes>"
            ]
          },
          "metadata": {
            "needs_background": "light"
          }
        }
      ]
    },
    {
      "cell_type": "code",
      "metadata": {
        "colab": {
          "base_uri": "https://localhost:8080/",
          "height": 282
        },
        "id": "tdel_OaZrpQ1",
        "outputId": "f5df0ca0-8896-43e8-a803-9d502f6e4edc"
      },
      "source": [
        "plt.pie([48, 55], labels=['남','여'], autopct='%.2f%%')\n",
        "plt.title('남여 비율', fontproperties=fontprop)\n",
        "plt.show()"
      ],
      "execution_count": 6,
      "outputs": [
        {
          "output_type": "display_data",
          "data": {
            "image/png": "[encoded data removed]",
            "text/plain": [
              "<Figure size 432x288 with 1 Axes>"
            ]
          },
          "metadata": {}
        }
      ]
    }
  ]
}